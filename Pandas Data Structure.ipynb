{
 "cells": [
  {
   "cell_type": "markdown",
   "metadata": {},
   "source": [
    "# Pandas Series"
   ]
  },
  {
   "cell_type": "code",
   "execution_count": 1,
   "metadata": {},
   "outputs": [
    {
     "name": "stdout",
     "output_type": "stream",
     "text": [
      "0    4\n",
      "1    6\n",
      "2    7\n",
      "3    6\n",
      "dtype: int64\n"
     ]
    }
   ],
   "source": [
    "# pandas series\n",
    "# must need to import pandas\n",
    "import pandas as pd\n",
    "obj=pd.Series([4,6,7,6])\n",
    "print (obj)"
   ]
  },
  {
   "cell_type": "markdown",
   "metadata": {},
   "source": [
    "# pandas Series has two things in one object¶\n"
   ]
  },
  {
   "cell_type": "markdown",
   "metadata": {},
   "source": [
    "# 1 values"
   ]
  },
  {
   "cell_type": "markdown",
   "metadata": {},
   "source": [
    "# 2 index"
   ]
  },
  {
   "cell_type": "code",
   "execution_count": 2,
   "metadata": {},
   "outputs": [
    {
     "name": "stdout",
     "output_type": "stream",
     "text": [
      "[100 200 300 400]\n",
      "RangeIndex(start=0, stop=4, step=1)\n"
     ]
    }
   ],
   "source": [
    "sales=pd.Series([100,200,300,400])\n",
    "print(sales.values)\n",
    "print(sales.index)"
   ]
  },
  {
   "cell_type": "code",
   "execution_count": 3,
   "metadata": {},
   "outputs": [
    {
     "name": "stdout",
     "output_type": "stream",
     "text": [
      "jan      100\n",
      "feb      200\n",
      "march    300\n",
      "april    400\n",
      "dtype: int64\n",
      "[100 200 300 400]\n",
      "Index(['jan', 'feb', 'march', 'april'], dtype='object')\n"
     ]
    }
   ],
   "source": [
    "sales=pd.Series([100,200,300,400] ,index=[\"jan\",\"feb\",\"march\",\"april\"])\n",
    "print(sales)\n",
    "print(sales.values)\n",
    "print(sales.index)"
   ]
  },
  {
   "cell_type": "code",
   "execution_count": 4,
   "metadata": {},
   "outputs": [
    {
     "data": {
      "text/plain": [
       "Jan    100\n",
       "Feb    200\n",
       "Mar    300\n",
       "Apr    400\n",
       "Name: 4 month sales, dtype: int64"
      ]
     },
     "execution_count": 4,
     "metadata": {},
     "output_type": "execute_result"
    }
   ],
   "source": [
    "sales=pd.Series([100,200,300,400],index=[\"Jan\",\"Feb\",\"Mar\",\"Apr\"],name=\"4 month sales\")\n",
    "sales"
   ]
  },
  {
   "cell_type": "markdown",
   "metadata": {},
   "source": [
    "# create a pandas series to store a canteen data to hold values of how many sandwithes are sold each days (one week)"
   ]
  },
  {
   "cell_type": "code",
   "execution_count": 5,
   "metadata": {},
   "outputs": [
    {
     "data": {
      "text/plain": [
       "mon    20\n",
       "tue    30\n",
       "wed    20\n",
       "thr    25\n",
       "fri    30\n",
       "sat    40\n",
       "sun     0\n",
       "dtype: int64"
      ]
     },
     "execution_count": 5,
     "metadata": {},
     "output_type": "execute_result"
    }
   ],
   "source": [
    "Sw=pd.Series([20, 30, 20, 25, 30, 40, 0],index = ['mon', 'tue', 'wed', 'thr','fri', 'sat', 'sun'])\n",
    "Sw\n"
   ]
  },
  {
   "cell_type": "code",
   "execution_count": 6,
   "metadata": {},
   "outputs": [
    {
     "name": "stdout",
     "output_type": "stream",
     "text": [
      "30\n",
      "20\n",
      "30\n"
     ]
    }
   ],
   "source": [
    "print(Sw[1])\n",
    "print(Sw[\"mon\"])\n",
    "print(Sw[\"tue\"])\n"
   ]
  },
  {
   "cell_type": "code",
   "execution_count": 7,
   "metadata": {},
   "outputs": [
    {
     "name": "stdout",
     "output_type": "stream",
     "text": [
      "thr    25\n",
      "sat    40\n",
      "dtype: int64\n",
      "mon    20\n",
      "sun     0\n",
      "dtype: int64\n"
     ]
    }
   ],
   "source": [
    "print(Sw[[3,5]])\n",
    "print(Sw[[\"mon\",\"sun\"]])"
   ]
  },
  {
   "cell_type": "markdown",
   "metadata": {},
   "source": [
    "# for providing multipe index for selecting element in an pd series, use array notation¶# "
   ]
  },
  {
   "cell_type": "code",
   "execution_count": 8,
   "metadata": {},
   "outputs": [
    {
     "name": "stdout",
     "output_type": "stream",
     "text": [
      "mon    False\n",
      "tue     True\n",
      "wed    False\n",
      "thr     True\n",
      "fri     True\n",
      "sat     True\n",
      "sun    False\n",
      "dtype: bool\n",
      "tue    30\n",
      "thr    25\n",
      "fri    30\n",
      "sat    40\n",
      "dtype: int64\n",
      "sun    0\n",
      "dtype: int64\n",
      "\n"
     ]
    }
   ],
   "source": [
    "print(Sw>20)\n",
    "print(Sw[Sw>20])\n",
    "print(Sw[Sw<10])\n",
    "print()"
   ]
  },
  {
   "cell_type": "code",
   "execution_count": 9,
   "metadata": {},
   "outputs": [
    {
     "name": "stdout",
     "output_type": "stream",
     "text": [
      "mon    40\n",
      "tue    60\n",
      "wed    40\n",
      "thr    50\n",
      "fri    60\n",
      "sat    80\n",
      "sun     0\n",
      "dtype: int64\n"
     ]
    }
   ],
   "source": [
    "Sw*2\n",
    "Sw=Sw*2\n",
    "print(Sw)"
   ]
  },
  {
   "cell_type": "code",
   "execution_count": 10,
   "metadata": {},
   "outputs": [
    {
     "name": "stdout",
     "output_type": "stream",
     "text": [
      "mon    40\n",
      "tue    60\n",
      "wed    40\n",
      "thr    50\n",
      "fri    60\n",
      "sat    80\n",
      "sun     0\n",
      "dtype: int64\n"
     ]
    }
   ],
   "source": [
    "print(Sw)"
   ]
  },
  {
   "cell_type": "code",
   "execution_count": 11,
   "metadata": {},
   "outputs": [
    {
     "name": "stdout",
     "output_type": "stream",
     "text": [
      "mon    20.0\n",
      "tue    30.0\n",
      "wed    20.0\n",
      "thr    25.0\n",
      "fri    30.0\n",
      "sat    40.0\n",
      "sun     0.0\n",
      "dtype: float64\n"
     ]
    }
   ],
   "source": [
    "Sw=Sw/2\n",
    "print(Sw)"
   ]
  },
  {
   "cell_type": "code",
   "execution_count": 12,
   "metadata": {},
   "outputs": [
    {
     "name": "stdout",
     "output_type": "stream",
     "text": [
      "True\n",
      "False\n"
     ]
    }
   ],
   "source": [
    "print(\"mon\" in Sw)\n",
    "print(\"monday\" in Sw)"
   ]
  },
  {
   "cell_type": "code",
   "execution_count": 13,
   "metadata": {},
   "outputs": [
    {
     "name": "stdout",
     "output_type": "stream",
     "text": [
      "a    4\n",
      "b    5\n",
      "c    6\n",
      "d    7\n",
      "e    8\n",
      "Name: data from numpy array, dtype: int32\n"
     ]
    }
   ],
   "source": [
    "#taking input from numpy arrays\n",
    "import numpy as np\n",
    "\n",
    "arr=np.array([4,5,6,7,8])\n",
    "ind=np.array([\"a\",\"b\",\"c\",\"d\",\"e\"])\n",
    "obj=pd.Series(arr,index=ind,name=\"data from numpy array\")\n",
    "print(obj)"
   ]
  },
  {
   "cell_type": "code",
   "execution_count": 14,
   "metadata": {},
   "outputs": [
    {
     "data": {
      "text/plain": [
       "True"
      ]
     },
     "execution_count": 14,
     "metadata": {},
     "output_type": "execute_result"
    }
   ],
   "source": [
    "\"b\" in obj"
   ]
  },
  {
   "cell_type": "code",
   "execution_count": 15,
   "metadata": {},
   "outputs": [
    {
     "name": "stdout",
     "output_type": "stream",
     "text": [
      "sindh          35000\n",
      "kpk             3000\n",
      "punjab          4500\n",
      "Balochistan     2000\n",
      "dtype: int64\n",
      "Index(['sindh', 'kpk', 'punjab', 'Balochistan'], dtype='object')\n",
      "[35000  3000  4500  2000]\n"
     ]
    }
   ],
   "source": [
    "\n",
    "sdata={\"sindh\":35000,\"kpk\":3000,\"punjab\":4500,\"Balochistan\":2000} #dic\n",
    "tax=pd.Series(sdata) #data from numpy dic\n",
    "print(tax)\n",
    "print(tax.index)\n",
    "print(tax.values)"
   ]
  },
  {
   "cell_type": "code",
   "execution_count": 16,
   "metadata": {},
   "outputs": [
    {
     "name": "stdout",
     "output_type": "stream",
     "text": [
      "punjab          4500\n",
      "sindh          35000\n",
      "kpk             3000\n",
      "Balochistan     2000\n",
      "dtype: int64\n"
     ]
    }
   ],
   "source": [
    "tax1=pd.Series(sdata,index=[\"punjab\",\"sindh\",\"kpk\",\"Balochistan\"])\n",
    "print(tax1)"
   ]
  },
  {
   "cell_type": "code",
   "execution_count": 17,
   "metadata": {},
   "outputs": [
    {
     "name": "stdout",
     "output_type": "stream",
     "text": [
      "punjab          4500.0\n",
      "sindh          35000.0\n",
      "kpk             3000.0\n",
      "Balochistan     2000.0\n",
      "GB                 NaN\n",
      "dtype: float64\n",
      "punjab         False\n",
      "sindh          False\n",
      "kpk            False\n",
      "Balochistan    False\n",
      "GB              True\n",
      "dtype: bool\n"
     ]
    },
    {
     "data": {
      "text/plain": [
       "punjab         False\n",
       "sindh          False\n",
       "kpk            False\n",
       "Balochistan    False\n",
       "GB              True\n",
       "dtype: bool"
      ]
     },
     "execution_count": 17,
     "metadata": {},
     "output_type": "execute_result"
    }
   ],
   "source": [
    "tax1=pd.Series(sdata,index=[\"punjab\",\"sindh\",\"kpk\",\"Balochistan\",\"GB\"])#NaN means values does not exist in pandas series.\n",
    "print(tax1)\n",
    "print(pd.isnull(tax1))\n",
    "tax1.isnull()"
   ]
  },
  {
   "cell_type": "markdown",
   "metadata": {},
   "source": [
    "# Pandas Data frame"
   ]
  },
  {
   "cell_type": "code",
   "execution_count": 18,
   "metadata": {},
   "outputs": [
    {
     "name": "stdout",
     "output_type": "stream",
     "text": [
      "   apple  orange\n",
      "0      3       6\n",
      "1      4       5\n",
      "2      5       7\n",
      "3      6       8\n"
     ]
    }
   ],
   "source": [
    "import pandas as pd \n",
    "apple=pd.Series([3,4,5,6])\n",
    "orange=pd.Series([6,5,7,8])\n",
    "data={\"apple\":apple,\"orange\":orange}\n",
    "obj=pd.DataFrame(data)   #DataFrame is used for handle multi dimensional array\n",
    "print (obj)"
   ]
  },
  {
   "cell_type": "code",
   "execution_count": 19,
   "metadata": {},
   "outputs": [
    {
     "name": "stdout",
     "output_type": "stream",
     "text": [
      "      state  year  pop\n",
      "1st    ohio  2000  1.3\n",
      "2nd    ohio  2001  1.4\n",
      "3rd    ohio  2003  1.5\n",
      "4th  nevada  2004  3.2\n",
      "5th  nevada  2005  6.1\n",
      "6th  nevada  2006  4.2\n"
     ]
    }
   ],
   "source": [
    "data={\"state\":[\"ohio\",\"ohio\",\"ohio\",\"nevada\",\"nevada\",\"nevada\"],\n",
    "     \"year\":[2000,2001,2003,2004,2005,2006],\n",
    "     \"pop\":[1.3,1.4,1.5,3.2,6.1,4.2]}\n",
    "frame=pd.DataFrame(data,index=[\"1st\",\"2nd\",\"3rd\",\"4th\",\"5th\",\"6th\"])\n",
    "print(frame)"
   ]
  },
  {
   "cell_type": "code",
   "execution_count": 20,
   "metadata": {},
   "outputs": [
    {
     "data": {
      "text/html": [
       "<div>\n",
       "<style scoped>\n",
       "    .dataframe tbody tr th:only-of-type {\n",
       "        vertical-align: middle;\n",
       "    }\n",
       "\n",
       "    .dataframe tbody tr th {\n",
       "        vertical-align: top;\n",
       "    }\n",
       "\n",
       "    .dataframe thead th {\n",
       "        text-align: right;\n",
       "    }\n",
       "</style>\n",
       "<table border=\"1\" class=\"dataframe\">\n",
       "  <thead>\n",
       "    <tr style=\"text-align: right;\">\n",
       "      <th></th>\n",
       "      <th>state</th>\n",
       "      <th>year</th>\n",
       "      <th>pop</th>\n",
       "    </tr>\n",
       "  </thead>\n",
       "  <tbody>\n",
       "    <tr>\n",
       "      <th>1st</th>\n",
       "      <td>ohio</td>\n",
       "      <td>2000</td>\n",
       "      <td>1.3</td>\n",
       "    </tr>\n",
       "    <tr>\n",
       "      <th>2nd</th>\n",
       "      <td>ohio</td>\n",
       "      <td>2001</td>\n",
       "      <td>1.4</td>\n",
       "    </tr>\n",
       "    <tr>\n",
       "      <th>3rd</th>\n",
       "      <td>ohio</td>\n",
       "      <td>2003</td>\n",
       "      <td>1.5</td>\n",
       "    </tr>\n",
       "    <tr>\n",
       "      <th>4th</th>\n",
       "      <td>nevada</td>\n",
       "      <td>2004</td>\n",
       "      <td>3.2</td>\n",
       "    </tr>\n",
       "    <tr>\n",
       "      <th>5th</th>\n",
       "      <td>nevada</td>\n",
       "      <td>2005</td>\n",
       "      <td>6.1</td>\n",
       "    </tr>\n",
       "    <tr>\n",
       "      <th>6th</th>\n",
       "      <td>nevada</td>\n",
       "      <td>2006</td>\n",
       "      <td>4.2</td>\n",
       "    </tr>\n",
       "  </tbody>\n",
       "</table>\n",
       "</div>"
      ],
      "text/plain": [
       "      state  year  pop\n",
       "1st    ohio  2000  1.3\n",
       "2nd    ohio  2001  1.4\n",
       "3rd    ohio  2003  1.5\n",
       "4th  nevada  2004  3.2\n",
       "5th  nevada  2005  6.1\n",
       "6th  nevada  2006  4.2"
      ]
     },
     "execution_count": 20,
     "metadata": {},
     "output_type": "execute_result"
    }
   ],
   "source": [
    "frame.head(6)"
   ]
  },
  {
   "cell_type": "code",
   "execution_count": 21,
   "metadata": {},
   "outputs": [
    {
     "data": {
      "text/html": [
       "<div>\n",
       "<style scoped>\n",
       "    .dataframe tbody tr th:only-of-type {\n",
       "        vertical-align: middle;\n",
       "    }\n",
       "\n",
       "    .dataframe tbody tr th {\n",
       "        vertical-align: top;\n",
       "    }\n",
       "\n",
       "    .dataframe thead th {\n",
       "        text-align: right;\n",
       "    }\n",
       "</style>\n",
       "<table border=\"1\" class=\"dataframe\">\n",
       "  <thead>\n",
       "    <tr style=\"text-align: right;\">\n",
       "      <th></th>\n",
       "      <th>year</th>\n",
       "      <th>state</th>\n",
       "      <th>pop</th>\n",
       "    </tr>\n",
       "  </thead>\n",
       "  <tbody>\n",
       "    <tr>\n",
       "      <th>1st</th>\n",
       "      <td>2000</td>\n",
       "      <td>ohio</td>\n",
       "      <td>1.3</td>\n",
       "    </tr>\n",
       "    <tr>\n",
       "      <th>2nd</th>\n",
       "      <td>2001</td>\n",
       "      <td>ohio</td>\n",
       "      <td>1.4</td>\n",
       "    </tr>\n",
       "    <tr>\n",
       "      <th>3rd</th>\n",
       "      <td>2003</td>\n",
       "      <td>ohio</td>\n",
       "      <td>1.5</td>\n",
       "    </tr>\n",
       "    <tr>\n",
       "      <th>4th</th>\n",
       "      <td>2004</td>\n",
       "      <td>nevada</td>\n",
       "      <td>3.2</td>\n",
       "    </tr>\n",
       "    <tr>\n",
       "      <th>5th</th>\n",
       "      <td>2005</td>\n",
       "      <td>nevada</td>\n",
       "      <td>6.1</td>\n",
       "    </tr>\n",
       "  </tbody>\n",
       "</table>\n",
       "</div>"
      ],
      "text/plain": [
       "     year   state  pop\n",
       "1st  2000    ohio  1.3\n",
       "2nd  2001    ohio  1.4\n",
       "3rd  2003    ohio  1.5\n",
       "4th  2004  nevada  3.2\n",
       "5th  2005  nevada  6.1"
      ]
     },
     "execution_count": 21,
     "metadata": {},
     "output_type": "execute_result"
    }
   ],
   "source": [
    "\n",
    "frame1=pd.DataFrame(data,index=[\"1st\",\"2nd\",\"3rd\",\"4th\",\"5th\",\"6th\"],  columns=['year','state','pop'])\n",
    "frame1.head()"
   ]
  },
  {
   "cell_type": "code",
   "execution_count": 22,
   "metadata": {},
   "outputs": [
    {
     "data": {
      "text/html": [
       "<div>\n",
       "<style scoped>\n",
       "    .dataframe tbody tr th:only-of-type {\n",
       "        vertical-align: middle;\n",
       "    }\n",
       "\n",
       "    .dataframe tbody tr th {\n",
       "        vertical-align: top;\n",
       "    }\n",
       "\n",
       "    .dataframe thead th {\n",
       "        text-align: right;\n",
       "    }\n",
       "</style>\n",
       "<table border=\"1\" class=\"dataframe\">\n",
       "  <thead>\n",
       "    <tr style=\"text-align: right;\">\n",
       "      <th></th>\n",
       "      <th>year</th>\n",
       "      <th>state</th>\n",
       "      <th>pop</th>\n",
       "      <th>debt</th>\n",
       "    </tr>\n",
       "  </thead>\n",
       "  <tbody>\n",
       "    <tr>\n",
       "      <th>1st</th>\n",
       "      <td>2000</td>\n",
       "      <td>ohio</td>\n",
       "      <td>1.3</td>\n",
       "      <td>NaN</td>\n",
       "    </tr>\n",
       "    <tr>\n",
       "      <th>2nd</th>\n",
       "      <td>2001</td>\n",
       "      <td>ohio</td>\n",
       "      <td>1.4</td>\n",
       "      <td>NaN</td>\n",
       "    </tr>\n",
       "    <tr>\n",
       "      <th>3rd</th>\n",
       "      <td>2003</td>\n",
       "      <td>ohio</td>\n",
       "      <td>1.5</td>\n",
       "      <td>NaN</td>\n",
       "    </tr>\n",
       "    <tr>\n",
       "      <th>4th</th>\n",
       "      <td>2004</td>\n",
       "      <td>nevada</td>\n",
       "      <td>3.2</td>\n",
       "      <td>NaN</td>\n",
       "    </tr>\n",
       "    <tr>\n",
       "      <th>5th</th>\n",
       "      <td>2005</td>\n",
       "      <td>nevada</td>\n",
       "      <td>6.1</td>\n",
       "      <td>NaN</td>\n",
       "    </tr>\n",
       "  </tbody>\n",
       "</table>\n",
       "</div>"
      ],
      "text/plain": [
       "     year   state  pop debt\n",
       "1st  2000    ohio  1.3  NaN\n",
       "2nd  2001    ohio  1.4  NaN\n",
       "3rd  2003    ohio  1.5  NaN\n",
       "4th  2004  nevada  3.2  NaN\n",
       "5th  2005  nevada  6.1  NaN"
      ]
     },
     "execution_count": 22,
     "metadata": {},
     "output_type": "execute_result"
    }
   ],
   "source": [
    "frame2=pd.DataFrame(data,index=[\"1st\",\"2nd\",\"3rd\",\"4th\",\"5th\",\"6th\"], columns=[\"year\",\"state\",\"pop\",\"debt\"])\n",
    "frame2.head()"
   ]
  },
  {
   "cell_type": "code",
   "execution_count": 23,
   "metadata": {},
   "outputs": [
    {
     "data": {
      "text/plain": [
       "Index(['year', 'state', 'pop', 'debt'], dtype='object')"
      ]
     },
     "execution_count": 23,
     "metadata": {},
     "output_type": "execute_result"
    }
   ],
   "source": [
    "frame2.columns"
   ]
  },
  {
   "cell_type": "code",
   "execution_count": 24,
   "metadata": {},
   "outputs": [
    {
     "data": {
      "text/plain": [
       "Index(['1st', '2nd', '3rd', '4th', '5th', '6th'], dtype='object')"
      ]
     },
     "execution_count": 24,
     "metadata": {},
     "output_type": "execute_result"
    }
   ],
   "source": [
    "frame2.index"
   ]
  },
  {
   "cell_type": "code",
   "execution_count": 25,
   "metadata": {},
   "outputs": [
    {
     "data": {
      "text/plain": [
       "1st    NaN\n",
       "2nd    NaN\n",
       "3rd    NaN\n",
       "4th    NaN\n",
       "5th    NaN\n",
       "6th    NaN\n",
       "Name: debt, dtype: object"
      ]
     },
     "execution_count": 25,
     "metadata": {},
     "output_type": "execute_result"
    }
   ],
   "source": [
    "frame2.debt\n"
   ]
  },
  {
   "cell_type": "code",
   "execution_count": 26,
   "metadata": {},
   "outputs": [
    {
     "data": {
      "text/plain": [
       "1st      ohio\n",
       "2nd      ohio\n",
       "3rd      ohio\n",
       "4th    nevada\n",
       "5th    nevada\n",
       "6th    nevada\n",
       "Name: state, dtype: object"
      ]
     },
     "execution_count": 26,
     "metadata": {},
     "output_type": "execute_result"
    }
   ],
   "source": [
    "frame2[\"state\"] # dictionary like notation to access or extract"
   ]
  },
  {
   "cell_type": "code",
   "execution_count": 27,
   "metadata": {},
   "outputs": [
    {
     "data": {
      "text/plain": [
       "1st      ohio\n",
       "2nd      ohio\n",
       "3rd      ohio\n",
       "4th    nevada\n",
       "5th    nevada\n",
       "6th    nevada\n",
       "Name: state, dtype: object"
      ]
     },
     "execution_count": 27,
     "metadata": {},
     "output_type": "execute_result"
    }
   ],
   "source": [
    "#there is another method ,attribute style of accessing \n",
    "frame2.state"
   ]
  },
  {
   "cell_type": "code",
   "execution_count": 28,
   "metadata": {},
   "outputs": [
    {
     "data": {
      "text/plain": [
       "year     2000\n",
       "state    ohio\n",
       "pop       1.3\n",
       "debt      NaN\n",
       "Name: 1st, dtype: object"
      ]
     },
     "execution_count": 28,
     "metadata": {},
     "output_type": "execute_result"
    }
   ],
   "source": [
    "frame2.loc[\"1st\"]#in pandas loc function is used for access all detail from any row and columns"
   ]
  },
  {
   "cell_type": "code",
   "execution_count": 29,
   "metadata": {},
   "outputs": [
    {
     "data": {
      "text/html": [
       "<div>\n",
       "<style scoped>\n",
       "    .dataframe tbody tr th:only-of-type {\n",
       "        vertical-align: middle;\n",
       "    }\n",
       "\n",
       "    .dataframe tbody tr th {\n",
       "        vertical-align: top;\n",
       "    }\n",
       "\n",
       "    .dataframe thead th {\n",
       "        text-align: right;\n",
       "    }\n",
       "</style>\n",
       "<table border=\"1\" class=\"dataframe\">\n",
       "  <thead>\n",
       "    <tr style=\"text-align: right;\">\n",
       "      <th></th>\n",
       "      <th>year</th>\n",
       "      <th>state</th>\n",
       "      <th>pop</th>\n",
       "      <th>debt</th>\n",
       "    </tr>\n",
       "  </thead>\n",
       "  <tbody>\n",
       "    <tr>\n",
       "      <th>1st</th>\n",
       "      <td>2000</td>\n",
       "      <td>ohio</td>\n",
       "      <td>1.3</td>\n",
       "      <td>16.5</td>\n",
       "    </tr>\n",
       "    <tr>\n",
       "      <th>2nd</th>\n",
       "      <td>2001</td>\n",
       "      <td>ohio</td>\n",
       "      <td>1.4</td>\n",
       "      <td>16.5</td>\n",
       "    </tr>\n",
       "    <tr>\n",
       "      <th>3rd</th>\n",
       "      <td>2003</td>\n",
       "      <td>ohio</td>\n",
       "      <td>1.5</td>\n",
       "      <td>16.5</td>\n",
       "    </tr>\n",
       "    <tr>\n",
       "      <th>4th</th>\n",
       "      <td>2004</td>\n",
       "      <td>nevada</td>\n",
       "      <td>3.2</td>\n",
       "      <td>16.5</td>\n",
       "    </tr>\n",
       "    <tr>\n",
       "      <th>5th</th>\n",
       "      <td>2005</td>\n",
       "      <td>nevada</td>\n",
       "      <td>6.1</td>\n",
       "      <td>16.5</td>\n",
       "    </tr>\n",
       "    <tr>\n",
       "      <th>6th</th>\n",
       "      <td>2006</td>\n",
       "      <td>nevada</td>\n",
       "      <td>4.2</td>\n",
       "      <td>16.5</td>\n",
       "    </tr>\n",
       "  </tbody>\n",
       "</table>\n",
       "</div>"
      ],
      "text/plain": [
       "     year   state  pop  debt\n",
       "1st  2000    ohio  1.3  16.5\n",
       "2nd  2001    ohio  1.4  16.5\n",
       "3rd  2003    ohio  1.5  16.5\n",
       "4th  2004  nevada  3.2  16.5\n",
       "5th  2005  nevada  6.1  16.5\n",
       "6th  2006  nevada  4.2  16.5"
      ]
     },
     "execution_count": 29,
     "metadata": {},
     "output_type": "execute_result"
    }
   ],
   "source": [
    "frame2[\"debt\"]=16.5 # column can be modified\n",
    "frame2"
   ]
  },
  {
   "cell_type": "code",
   "execution_count": 39,
   "metadata": {},
   "outputs": [
    {
     "data": {
      "text/html": [
       "<div>\n",
       "<style scoped>\n",
       "    .dataframe tbody tr th:only-of-type {\n",
       "        vertical-align: middle;\n",
       "    }\n",
       "\n",
       "    .dataframe tbody tr th {\n",
       "        vertical-align: top;\n",
       "    }\n",
       "\n",
       "    .dataframe thead th {\n",
       "        text-align: right;\n",
       "    }\n",
       "</style>\n",
       "<table border=\"1\" class=\"dataframe\">\n",
       "  <thead>\n",
       "    <tr style=\"text-align: right;\">\n",
       "      <th></th>\n",
       "      <th>state</th>\n",
       "      <th>year</th>\n",
       "      <th>pop</th>\n",
       "      <th>debt</th>\n",
       "    </tr>\n",
       "  </thead>\n",
       "  <tbody>\n",
       "    <tr>\n",
       "      <th>one</th>\n",
       "      <td>ohio</td>\n",
       "      <td>2000</td>\n",
       "      <td>1.3</td>\n",
       "      <td>0</td>\n",
       "    </tr>\n",
       "    <tr>\n",
       "      <th>two</th>\n",
       "      <td>ohio</td>\n",
       "      <td>2001</td>\n",
       "      <td>1.4</td>\n",
       "      <td>1</td>\n",
       "    </tr>\n",
       "    <tr>\n",
       "      <th>three</th>\n",
       "      <td>ohio</td>\n",
       "      <td>2003</td>\n",
       "      <td>1.5</td>\n",
       "      <td>2</td>\n",
       "    </tr>\n",
       "    <tr>\n",
       "      <th>four</th>\n",
       "      <td>nevada</td>\n",
       "      <td>2004</td>\n",
       "      <td>3.2</td>\n",
       "      <td>3</td>\n",
       "    </tr>\n",
       "    <tr>\n",
       "      <th>five</th>\n",
       "      <td>nevada</td>\n",
       "      <td>2005</td>\n",
       "      <td>6.1</td>\n",
       "      <td>4</td>\n",
       "    </tr>\n",
       "    <tr>\n",
       "      <th>six</th>\n",
       "      <td>nevada</td>\n",
       "      <td>2006</td>\n",
       "      <td>4.2</td>\n",
       "      <td>5</td>\n",
       "    </tr>\n",
       "  </tbody>\n",
       "</table>\n",
       "</div>"
      ],
      "text/plain": [
       "        state  year  pop  debt\n",
       "one      ohio  2000  1.3     0\n",
       "two      ohio  2001  1.4     1\n",
       "three    ohio  2003  1.5     2\n",
       "four   nevada  2004  3.2     3\n",
       "five   nevada  2005  6.1     4\n",
       "six    nevada  2006  4.2     5"
      ]
     },
     "execution_count": 39,
     "metadata": {},
     "output_type": "execute_result"
    }
   ],
   "source": [
    "import pandas as pd\n",
    "import numpy as np\n",
    "data={\"state\":[\"ohio\",\"ohio\",\"ohio\",\"nevada\",\"nevada\",\"nevada\"],\n",
    "     \"year\":[2000,2001,2003,2004,2005,2006],\n",
    "     \"pop\":[1.3,1.4,1.5,3.2,6.1,4.2]}\n",
    "A=pd.DataFrame(data, columns=[\"state\",\"year\",\"pop\",\"debt\"],index=[\"one\",\"two\",\"three\",\"four\",\"five\",\"six\"])\n",
    "\n",
    "B =(len(A))\n",
    "rng=np.arange(B)\n",
    "A[\"debt\"]= rng\n",
    "A"
   ]
  },
  {
   "cell_type": "code",
   "execution_count": 50,
   "metadata": {},
   "outputs": [],
   "source": [
    "a=np.random.randn(4,4)"
   ]
  },
  {
   "cell_type": "code",
   "execution_count": 51,
   "metadata": {},
   "outputs": [
    {
     "data": {
      "text/plain": [
       "array([[-0.22017555, -0.33347375,  0.56450419, -0.03646985],\n",
       "       [ 0.75339847,  0.88651763,  0.55469101,  0.85892093],\n",
       "       [ 0.98626074,  1.18848381,  1.73949475,  0.86967368],\n",
       "       [-0.23714346, -0.96009296,  0.17514776, -1.10197929]])"
      ]
     },
     "execution_count": 51,
     "metadata": {},
     "output_type": "execute_result"
    }
   ],
   "source": [
    "a"
   ]
  },
  {
   "cell_type": "code",
   "execution_count": 84,
   "metadata": {},
   "outputs": [
    {
     "name": "stdout",
     "output_type": "stream",
     "text": [
      "               a         b         c         d\n",
      "otah    1.250287 -0.871692  0.451599  0.532307\n",
      "ohio   -0.733379  0.429053 -0.388501 -0.578974\n",
      "texas   0.927478 -0.584543 -0.485704 -0.480972\n",
      "origin  1.854952 -0.187395  0.266548 -0.088803\n",
      "a    2.588331\n",
      "b    1.300745\n",
      "c    0.937303\n",
      "d    1.111281\n",
      "dtype: float64 <class 'pandas.core.series.Series'>\n"
     ]
    }
   ],
   "source": [
    "f=pd.DataFrame(np.random.randn(4,4), columns=list(\"abcd\"),index=[\"otah\",\"ohio\",\"texas\",\"origin\"])\n",
    "print (f)\n",
    "#print(np.abs(f))\n",
    "#print(f[\"d\"].min())\n",
    "#print(f[\"d\"].max())\n",
    "#print(f[\"d\"].max()-f[\"d\"].min())\n",
    "\n",
    "d=lambda x: x.max() - x.min()\n",
    "df=f.apply(d)\n",
    "print(df,type(df))\n",
    "#df=f.apply(d,axis=1)\n",
    "#print(df)\n",
    "\n",
    "#def min_max(x):\n",
    "#    minimum=x.min()\n",
    " #   maximum=x.max()\n",
    " #   return pd.Series([x.min(),x.max()],index=[\"min\",\"max\"])\n",
    "#df=f.apply(min_max)\n",
    "#print (df,type(df))\n",
    "    \n"
   ]
  },
  {
   "cell_type": "markdown",
   "metadata": {},
   "source": [
    "# Arithmetic & Data Alignment\n"
   ]
  },
  {
   "cell_type": "code",
   "execution_count": 10,
   "metadata": {},
   "outputs": [
    {
     "name": "stdout",
     "output_type": "stream",
     "text": [
      "          one  two  three  four\n",
      "Ohio        0    1      2     3\n",
      "Colorado    4    5      6     7\n",
      "Utah        8    9     10    11\n",
      "New York   12   13     14    15 \n",
      "\n",
      "          two  three\n",
      "Colorado    5      6\n",
      "Ohio        1      2\n",
      "\n",
      "\n",
      "          four  one  two\n",
      "Utah        11    8    9\n",
      "New York    15   12   13\n",
      "          one  two  three  four\n",
      "Ohio        0    1      2     3\n",
      "Colorado    4    5      6     7\n",
      "Utah        8    9     10    11\n",
      "New York   12   13     14    15\n",
      "          one  two  three\n",
      "Ohio        0    1      2\n",
      "Colorado    4    5      6\n",
      "Utah        8    9     10\n",
      "          one  two  three\n",
      "Ohio        0    1      2\n",
      "Colorado    4    5      6\n",
      "Utah        8    9     10\n",
      "New York   12   13     14\n"
     ]
    }
   ],
   "source": [
    "import numpy as np\n",
    "import pandas as pd\n",
    "\n",
    "data_df = pd.DataFrame(np.arange(16).reshape((4, 4)), \n",
    "             index=['Ohio', 'Colorado', 'Utah', 'New York'],\n",
    "             columns=['one', 'two', 'three', 'four'])\n",
    "\n",
    "print(data_df, \"\\n\")\n",
    "# in the loc method specify row label first \n",
    "# then specify column names\n",
    "# remember! mutiple column names require array notation\n",
    "print( data_df.loc[['Colorado','Ohio'], ['two',  'three'] ] )\n",
    "print(\"\\n\")\n",
    "print( data_df.iloc[2:, [3, 0, 1] ] ) # using number instead of labels\n",
    "print( data_df.iloc[:])\n",
    "print ( data_df.iloc[ :3 , :3 ] )\n",
    "print( data_df.iloc[:, :3])"
   ]
  },
  {
   "cell_type": "code",
   "execution_count": null,
   "metadata": {},
   "outputs": [],
   "source": []
  }
 ],
 "metadata": {
  "kernelspec": {
   "display_name": "Python 3",
   "language": "python",
   "name": "python3"
  },
  "language_info": {
   "codemirror_mode": {
    "name": "ipython",
    "version": 3
   },
   "file_extension": ".py",
   "mimetype": "text/x-python",
   "name": "python",
   "nbconvert_exporter": "python",
   "pygments_lexer": "ipython3",
   "version": "3.7.3"
  }
 },
 "nbformat": 4,
 "nbformat_minor": 2
}
